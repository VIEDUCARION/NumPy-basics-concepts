{
 "cells": [
  {
   "cell_type": "code",
   "execution_count": 1,
   "id": "5201d77f-8924-424e-a973-7b7b41dda7d9",
   "metadata": {},
   "outputs": [
    {
     "name": "stdout",
     "output_type": "stream",
     "text": [
      "[[[12 13]\n",
      "  [14  3]\n",
      "  [11 10]]]\n"
     ]
    }
   ],
   "source": [
    "import numpy as np\n",
    "other_array = np.array([[[12,13],[14,3],[11,10]]])\n",
    "print(other_array)"
   ]
  },
  {
   "cell_type": "code",
   "execution_count": 2,
   "id": "ee8b8f62-aedb-4269-8a3b-78c42d0be5d2",
   "metadata": {},
   "outputs": [],
   "source": [
    "import numpy as np"
   ]
  },
  {
   "cell_type": "code",
   "execution_count": 8,
   "id": "9500fcea-22b1-47cc-94fb-649df465567a",
   "metadata": {},
   "outputs": [
    {
     "name": "stdout",
     "output_type": "stream",
     "text": [
      "[[110  67  90]\n",
      " [ 35  60  93]]\n",
      "(2, 3)\n"
     ]
    }
   ],
   "source": [
    "\n",
    "other_array = np.array([[12,13,45],[31,53,87]])\n",
    "new_array = np.array([[98,54,45],[4,7,6]])\n",
    "result = other_array + new_array\n",
    "print(result)\n",
    "print(result.shape)"
   ]
  },
  {
   "cell_type": "code",
   "execution_count": 23,
   "id": "8658d7c4-6121-41fd-9719-58eeda0db585",
   "metadata": {},
   "outputs": [
    {
     "name": "stdout",
     "output_type": "stream",
     "text": [
      "[[[1 2]\n",
      "  [3 4]\n",
      "  [5 6]]\n",
      "\n",
      " [[7 8]\n",
      "  [9 7]\n",
      "  [6 4]]]\n",
      "(2, 3, 2)\n"
     ]
    }
   ],
   "source": [
    "thrid_array =np.array([[[1,2],[3,4],[5,6]],\n",
    "               [[7,8],[9,7],[6,4]]])\n",
    "print(thrid_array)\n",
    "print(thrid_array.shape)"
   ]
  },
  {
   "cell_type": "code",
   "execution_count": 32,
   "id": "10bfb146-bd7d-4f47-bf81-73c3ead9079a",
   "metadata": {},
   "outputs": [
    {
     "name": "stdout",
     "output_type": "stream",
     "text": [
      "Dimensions of 'array_of_integers' =  4\n",
      "Dimensions of 'sample_2D_integers' = 1\n",
      "The total number of elements'array_of_integers' = 12\n",
      "The total number of elements'sample_2D_integers' = 10\n"
     ]
    }
   ],
   "source": [
    "import numpy as np\n",
    "array_of_integers = np.array([[[[1,2,3],[4,5,6],[22,33,44],[55,77,99]]]])\n",
    "sample_2D_integers = np.array([1,22,3,4,5,6,7,8,9,0])\n",
    "print(\"Dimensions of 'array_of_integers' = \", array_of_integers.ndim)\n",
    "print(\"Dimensions of 'sample_2D_integers' =\", sample_2D_integers.ndim)\n",
    "print(f\"The total number of elements'array_of_integers' = {array_of_integers.size}\")\n",
    "print(f\"The total number of elements'sample_2D_integers' = {sample_2D_integers.size}\")"
   ]
  },
  {
   "cell_type": "code",
   "execution_count": 39,
   "id": "611012e8-4435-4a5e-a3be-036261aba5db",
   "metadata": {},
   "outputs": [
    {
     "name": "stdout",
     "output_type": "stream",
     "text": [
      "int32\n",
      "<U11\n",
      "<U3\n"
     ]
    }
   ],
   "source": [
    "import numpy as np\n",
    "my_array = np.array([1,2,3,4,5])\n",
    "mny_array = np.array([1,2,3,4,'abc'])\n",
    "mky_array = np.array(['abc','dgd','dgw'])\n",
    "print(my_array.dtype)                    \n",
    "print(mny_array.dtype)\n",
    "print(mky_array.dtype)"
   ]
  },
  {
   "cell_type": "code",
   "execution_count": 42,
   "id": "435a7675-8944-4776-9f2a-e1c0ff36dd11",
   "metadata": {},
   "outputs": [
    {
     "name": "stdout",
     "output_type": "stream",
     "text": [
      "[2 3 4]\n",
      "int32\n",
      "[2 3 4]\n",
      "int32\n"
     ]
    }
   ],
   "source": [
    "import numpy as np\n",
    "arravali = np.array([2,3,4])\n",
    "print(arravali)\n",
    "print(arravali.dtype)\n",
    "arravali_ = arravali.astype('float64')\n",
    "print(arravali)\n",
    "print(arravali.dtype)"
   ]
  },
  {
   "cell_type": "code",
   "execution_count": null,
   "id": "579a31f4-0eae-48cf-8445-efb69186d4ba",
   "metadata": {},
   "outputs": [],
   "source": []
  },
  {
   "cell_type": "code",
   "execution_count": 60,
   "id": "8cdc1be7-6fb7-4970-a22a-c69c7af12f7a",
   "metadata": {},
   "outputs": [
    {
     "name": "stdout",
     "output_type": "stream",
     "text": [
      "the defined array is\n",
      " [[ 7 41]\n",
      " [ 3  3]]\n",
      "\n",
      " the shape of the array is (2, 2)\n"
     ]
    }
   ],
   "source": [
    "import numpy as np\n",
    "import random\n",
    "arravali = np.array(np.random.randint([[10,45],[9,6]]))\n",
    "print(f\"the defined array is\\n {arravali}\")\n",
    "print(f\"\\n the shape of the array is {arravali.shape}\")"
   ]
  },
  {
   "cell_type": "code",
   "execution_count": null,
   "id": "31e67372-49bb-46a6-a16d-167d652e6625",
   "metadata": {},
   "outputs": [],
   "source": []
  },
  {
   "cell_type": "code",
   "execution_count": 3,
   "id": "b08d940b-68d0-45b1-934e-4524d5762f35",
   "metadata": {},
   "outputs": [
    {
     "name": "stdout",
     "output_type": "stream",
     "text": [
      "the defined array is\n",
      " [[[15 42]]\n",
      "\n",
      " [[13 29]]\n",
      "\n",
      " [[42 42]]]\n",
      "\n",
      " the shape of the array is (3, 1, 2)\n",
      "the defined array is\n",
      " [[[29 14]]\n",
      "\n",
      " [[21 23]]\n",
      "\n",
      " [[15 37]]]\n",
      "\n",
      " the shape of the array is <built-in method reshape of numpy.ndarray object at 0x0000021A608CBB10>\n",
      "the defined array is\n",
      " [[[20 27]]\n",
      "\n",
      " [[18 25]]\n",
      "\n",
      " [[38 12]]]\n",
      "\n",
      " the shape of the array is [20 27 18 25 38 12]\n"
     ]
    }
   ],
   "source": [
    "import numpy as np\n",
    "import random\n",
    "random_cohort= np.array(np.random.randint(10,45,(3,1,2)))\n",
    "print(f\"the defined array is\\n {random_cohort}\")\n",
    "print(f\"\\n the shape of the array is {random_cohort.shape}\")\n",
    "new_shape = (4,-2,5)\n",
    "reshape_random_cohort= np.array(np.random.randint(10,45,(3,1,2)))\n",
    "print(f\"the defined array is\\n {reshape_random_cohort}\")\n",
    "print(f\"\\n the shape of the array is {reshape_random_cohort.reshape}\")\n",
    "new_shape = (4,-2,5)\n",
    "reshape_random_cohort= np.array(np.random.randint(10,45,(3,1,2)))\n",
    "print(f\"the defined array is\\n {reshape_random_cohort}\")\n",
    "print(f\"\\n the shape of the array is {reshape_random_cohort.flatten()}\")\n"
   ]
  },
  {
   "cell_type": "code",
   "execution_count": null,
   "id": "da988955-ea14-48c2-8827-b741d8c939e8",
   "metadata": {},
   "outputs": [],
   "source": []
  },
  {
   "cell_type": "code",
   "execution_count": 8,
   "id": "0a9e1492-c9db-4ac3-8221-e206a41eb19d",
   "metadata": {},
   "outputs": [
    {
     "name": "stdout",
     "output_type": "stream",
     "text": [
      "[[[66 30 59 51 31]\n",
      "  [56 53 30 73 65]\n",
      "  [67 71 76 43 51]\n",
      "  [36 41 46 73 32]]\n",
      "\n",
      " [[80 80 80 80 80]\n",
      "  [80 80 80 80 80]\n",
      "  [80 80 80 80 80]\n",
      "  [80 80 80 80 80]]\n",
      "\n",
      " [[41 57 72 54 43]\n",
      "  [38 47 31 75 76]\n",
      "  [56 62 46 73 53]\n",
      "  [74 51 62 61 35]]]\n",
      "(3, 4, 5)\n"
     ]
    }
   ],
   "source": [
    "import numpy as np\n",
    "a = np.random.randint(30,80,(2,4,5))\n",
    "a = np.insert(a,1,80,axis = 0)\n",
    "\n",
    "print(a)\n",
    "print(a.shape)"
   ]
  },
  {
   "cell_type": "code",
   "execution_count": 15,
   "id": "acb77078-d2fb-4614-8cc3-769562010bcd",
   "metadata": {},
   "outputs": [
    {
     "name": "stdout",
     "output_type": "stream",
     "text": [
      "(2, 1, 2)\n",
      "[[[3 3]]\n",
      "\n",
      " [[2 2]]]\n"
     ]
    }
   ],
   "source": [
    "import numpy as np\n",
    "a = np.random.randint(2,6,(2,1,3))\n",
    "b = np.random.randint(2,4,(2,1,2))\n",
    "print(b.shape)\n",
    "print(b)\n"
   ]
  },
  {
   "cell_type": "code",
   "execution_count": 16,
   "id": "40d5f3dc-6887-404c-ac32-b5592cb14869",
   "metadata": {},
   "outputs": [
    {
     "name": "stdout",
     "output_type": "stream",
     "text": [
      "[[[13 57 35 19 53]\n",
      "  [20 33 58 19 19]\n",
      "  [41 28 43 35 57]]\n",
      "\n",
      " [[20 16 55 50 59]\n",
      "  [39 34 17 29 42]\n",
      "  [23 44 57 39 10]]\n",
      "\n",
      " [[13 52 24 13 11]\n",
      "  [10 31 52 28 48]\n",
      "  [10 38 29 11 29]]]\n",
      "(3, 3, 5)\n",
      "[[[57 35 53]\n",
      "  [33 58 19]\n",
      "  [28 43 57]]\n",
      "\n",
      " [[16 55 59]\n",
      "  [34 17 42]\n",
      "  [44 57 10]]\n",
      "\n",
      " [[52 24 11]\n",
      "  [31 52 48]\n",
      "  [38 29 29]]]\n"
     ]
    }
   ],
   "source": [
    "import numpy as np\n",
    "alma_array = np.random.randint(10,60,(3,3,5))\n",
    "print(alma_array)\n",
    "print(alma_array.shape)\n",
    "alma_array = np.delete(alma_array,(0,3),axis =2)\n",
    "print(alma_array)"
   ]
  },
  {
   "cell_type": "code",
   "execution_count": null,
   "id": "9baaf0bc-c63e-468a-a1ac-70bf8f1530aa",
   "metadata": {},
   "outputs": [],
   "source": []
  },
  {
   "cell_type": "code",
   "execution_count": 29,
   "id": "0c3e5dc6-628b-4e7f-967f-1b5a5b876e64",
   "metadata": {},
   "outputs": [
    {
     "name": "stdout",
     "output_type": "stream",
     "text": [
      "[[[17 13 19 10]\n",
      "  [12 15 15 10]\n",
      "  [16 19 17 10]]\n",
      "\n",
      " [[13 16 14 17]\n",
      "  [13 15 18 16]\n",
      "  [11 12 14 14]]]\n",
      "(2, 3, 4)\n"
     ]
    },
    {
     "data": {
      "text/plain": [
       "array([[[13, 16, 14, 17],\n",
       "        [13, 15, 18, 16],\n",
       "        [11, 12, 14, 14]]])"
      ]
     },
     "execution_count": 29,
     "metadata": {},
     "output_type": "execute_result"
    }
   ],
   "source": [
    "import numpy as np\n",
    "a = np.random.randint(10,20,(2,3,4))\n",
    "print(a)\n",
    "print(a.shape)\n",
    "np.unique(a)\n",
    "np.append(a,50)\n",
    "np.delete(a,(0),axis = 0)"
   ]
  },
  {
   "cell_type": "code",
   "execution_count": null,
   "id": "5ade1fbc-8e14-4ff0-b3d3-bcf9a72d265b",
   "metadata": {},
   "outputs": [],
   "source": []
  },
  {
   "cell_type": "code",
   "execution_count": 34,
   "id": "5b7f2e49-c5ef-42b2-bea1-be4a024c7965",
   "metadata": {},
   "outputs": [
    {
     "name": "stdout",
     "output_type": "stream",
     "text": [
      "[[12 34 56]\n",
      " [55 76 54]\n",
      " [54 85 44]]\n",
      "[[12 34 56]\n",
      " [55 76 54]\n",
      " [54 85 44]]\n"
     ]
    }
   ],
   "source": [
    "import numpy\n",
    "my_list = [[12,34,56],[55,76,54],[54,85,44]]\n",
    "matrix = numpy.array(my_list)\n",
    "print(matrix)\n",
    "# res = matrix [: , :]\n",
    "# print(res)\n",
    "res = matrix [0 :3 , 0:3]\n",
    "print(res)"
   ]
  },
  {
   "cell_type": "code",
   "execution_count": null,
   "id": "bb5065e0-b80e-4a05-9cea-b03b8cc81686",
   "metadata": {},
   "outputs": [],
   "source": []
  },
  {
   "cell_type": "code",
   "execution_count": 17,
   "id": "2287a8f9-eca8-4b74-8a58-3df86405721c",
   "metadata": {},
   "outputs": [
    {
     "name": "stdin",
     "output_type": "stream",
     "text": [
      "Enter row size 3\n",
      "Enter column size 2\n"
     ]
    },
    {
     "name": "stdout",
     "output_type": "stream",
     "text": [
      "Enter 6 elements of 3x2 matrix :\n"
     ]
    },
    {
     "name": "stdin",
     "output_type": "stream",
     "text": [
      " 4\n",
      " 6\n",
      " 5\n",
      " 8\n",
      " 9\n",
      " 2\n"
     ]
    },
    {
     "name": "stdout",
     "output_type": "stream",
     "text": [
      " 3x2 matrix :\n",
      "[[4 6]\n",
      " [5 8]\n",
      " [9 2]]\n"
     ]
    }
   ],
   "source": [
    "import numpy as np\n",
    "m = int(input(\"Enter row size\"))\n",
    "n = int(input(\"Enter column size\"))\n",
    "matrix = np.ndarray(shape = (m,n),dtype = int)\n",
    "print(\"Enter %d elements of %dx%d matrix :\" %(m*n,m,n))\n",
    "    zfor i in range(m):\n",
    "    for j in range(n):\n",
    "        matrix [i] [j] = int(input())\n",
    "print(\" %dx%d matrix :\" %(m,n))\n",
    "print(matrix)"
   ]
  },
  {
   "cell_type": "code",
   "execution_count": null,
   "id": "e3bddd70-1d27-4f56-9e74-2bc58eadecc7",
   "metadata": {},
   "outputs": [],
   "source": []
  },
  {
   "cell_type": "code",
   "execution_count": 45,
   "id": "980c7b0f-882f-4241-a65b-78608c5c7829",
   "metadata": {},
   "outputs": [
    {
     "name": "stdout",
     "output_type": "stream",
     "text": [
      "array elements\n",
      "[[[1 2]\n",
      "  [3 4]]\n",
      "\n",
      " [[5 6]\n",
      "  [7 8]]]\n"
     ]
    }
   ],
   "source": [
    "import numpy\n",
    "arr = numpy.ndarray(shape = (2.8,2,2) , dtype = float)\n",
    "val = 1\n",
    "x = arr.shape[0]\n",
    "y = arr.shape[1]\n",
    "z = arr.shape[2]\n",
    "for i in range(x):\n",
    "    for j in range(y):\n",
    "        for k in range(z):\n",
    "            arr [i] [j] [k] = val\n",
    "            val = val + 1\n",
    "print(\"array elements\")\n",
    "print(arr)"
   ]
  },
  {
   "cell_type": "code",
   "execution_count": null,
   "id": "2949fa04-ae0e-4830-bcfe-7ee4ebbc3fcd",
   "metadata": {},
   "outputs": [],
   "source": []
  },
  {
   "cell_type": "code",
   "execution_count": null,
   "id": "f5721277-cc3f-43ec-8779-6d996e55870d",
   "metadata": {},
   "outputs": [],
   "source": []
  },
  {
   "cell_type": "code",
   "execution_count": null,
   "id": "8499475f-25d5-43bc-bfef-6252c508035c",
   "metadata": {},
   "outputs": [],
   "source": []
  }
 ],
 "metadata": {
  "kernelspec": {
   "display_name": "Python 3 (ipykernel)",
   "language": "python",
   "name": "python3"
  },
  "language_info": {
   "codemirror_mode": {
    "name": "ipython",
    "version": 3
   },
   "file_extension": ".py",
   "mimetype": "text/x-python",
   "name": "python",
   "nbconvert_exporter": "python",
   "pygments_lexer": "ipython3",
   "version": "3.11.5"
  }
 },
 "nbformat": 4,
 "nbformat_minor": 5
}
